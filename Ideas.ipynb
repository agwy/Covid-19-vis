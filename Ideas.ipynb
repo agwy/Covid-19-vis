{
 "cells": [
  {
   "cell_type": "markdown",
   "metadata": {},
   "source": [
    "# Covid-19 ideas\n",
    "\n",
    "How can we explore Covid-19 data and model it?\n",
    "\n",
    "The project will focus on getting quick tools/baselines running quickly. There will be some review of literature and results, but only gradually. \n",
    "\n",
    "\n",
    "Milestones:\n",
    "1. How to pull up-to-date data of number of confirmed cases per country, and display this in a (plotly?) plot where one can select the countries to compare. (Further stage: dashboard?)\n",
    "    - Display total and daily number of cases.\n",
    "    - Maybe fit exponential or other curves to compare?\n",
    "    - align on similar onset\n",
    "2. Bayesian model extracting information about potential real number of cases from time series of confirmed cases and spread? Sharing info between countries?\n",
    "    - Is it effective? [This article](https://www.kaggle.com/yuanso/four-possible-ways-to-fight-covid-19) says not but haven't checked if it says why.\n",
    "3.\n",
    "\n",
    "\n",
    "[cool discussion](https://www.kaggle.com/saga21/covid-global-forecast-sir-model-ml-regressions) to get ideas from.\n",
    "\n",
    "\n",
    "\n",
    "Data to consider:\n",
    "1. Number of confirmed cases per country, number of recorded deaths per country. How fine-grained can it get?\n",
    "    - How are these numbers recorded per country?\n",
    "    - Dries mentioned that 8% of people admitted to hospitals for reasons other than Covid-19 were tested positive for Covid-19?\n",
    "    - Interesting [ideas](https://medium.com/@tomaspueyo/coronavirus-act-today-or-people-will-die-f4d3d9cd99ca) on some analyses such as reconstructing number of confirmed cases retrospectively. Some follow-up articles.\n",
    "2. Test rates and criteria. Criteria for death of Covid-19.\n",
    "    - For the criteria: do some countries provide good informationon certain data?\n",
    "3. Population demographics.\n",
    "4. Policy information: data of quarantining, social distancing, ...\n",
    "    - Capital invested in measures?\n",
    "5. Comorbidities in deaths. Italy [recorded](https://www.bloomberg.com/news/articles/2020-03-18/99-of-those-who-died-from-virus-had-other-illness-italy-says) high comorbidity rates in patients that died from Covid-19.\n",
    "6. See kaggle [dataset challenge](https://www.kaggle.com/data/139140). Data on natural [social distance](https://www.kaggle.com/vitaliymalcev/personal-distance-in-42-countries) in countries (maybe less useful in first instance), climate data, \n",
    "7. Kaggle literature review and questioning challenge. Also [Coronawhy.org](https://www.kaggle.com/arturkiulian/coronawhy-org-global-collaboration-join-slack) for collaborations. Bit hardcore in language.\n",
    "8. Kaggle [forecasting challenge](https://www.kaggle.com/c/covid19-global-forecasting-week-2).\n",
    "\n",
    "\n",
    "Interesting articles to read:\n",
    "1. The medium series mentioned in point 1. of data.\n",
    "2. [This article](https://www.kaggle.com/yuanso/four-possible-ways-to-fight-covid-19) looks at different policies.\n",
    "3. WHO?\n",
    "\n",
    "Questions:\n",
    "1. Why is Germmany so effective in fighting off Coronavirus?\n"
   ]
  },
  {
   "cell_type": "code",
   "execution_count": null,
   "metadata": {},
   "outputs": [],
   "source": []
  }
 ],
 "metadata": {
  "kernelspec": {
   "display_name": "Python 3",
   "language": "python",
   "name": "python3"
  },
  "language_info": {
   "codemirror_mode": {
    "name": "ipython",
    "version": 3
   },
   "file_extension": ".py",
   "mimetype": "text/x-python",
   "name": "python",
   "nbconvert_exporter": "python",
   "pygments_lexer": "ipython3",
   "version": "3.8.2"
  }
 },
 "nbformat": 4,
 "nbformat_minor": 4
}
